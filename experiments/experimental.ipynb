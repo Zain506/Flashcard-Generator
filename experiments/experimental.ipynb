{
 "cells": [
  {
   "cell_type": "markdown",
   "metadata": {},
   "source": [
    "# Requirements\n",
    "\n",
    "1. Starting experiments folder name with /notes, /questions\n",
    "2. Document Ingestor: Create separate folders with files for notes, questions to store in there. Class will copy all of those into experiments folder\n",
    "3. OCR: Process documents to obtain text and LaTex interpretation of each one. Store into 2 .json files separated by chunk\n",
    "4. Question retriever: From questions.json, obtain list of questions to query notes\n",
    "5. RAG retriever: From all chunks of notes.json, obtain most relevant chunk(s) and store into qa.json ({question: chunk})"
   ]
  },
  {
   "cell_type": "markdown",
   "metadata": {},
   "source": [
    "# Installs"
   ]
  },
  {
   "cell_type": "code",
   "execution_count": 1,
   "metadata": {},
   "outputs": [
    {
     "name": "stdout",
     "output_type": "stream",
     "text": [
      "Requirement already satisfied: langchain in c:\\users\\zain\\documents\\github\\university\\.venv\\lib\\site-packages (from -r ../requirements.txt (line 1)) (0.3.1)\n",
      "Requirement already satisfied: langchain_community in c:\\users\\zain\\documents\\github\\university\\.venv\\lib\\site-packages (from -r ../requirements.txt (line 2)) (0.3.1)\n",
      "Requirement already satisfied: langchain_huggingface in c:\\users\\zain\\documents\\github\\university\\.venv\\lib\\site-packages (from -r ../requirements.txt (line 3)) (0.1.0)\n",
      "Requirement already satisfied: langchain_text_splitters in c:\\users\\zain\\documents\\github\\university\\.venv\\lib\\site-packages (from -r ../requirements.txt (line 4)) (0.3.0)\n",
      "Requirement already satisfied: nltk in c:\\users\\zain\\documents\\github\\university\\.venv\\lib\\site-packages (from -r ../requirements.txt (line 6)) (3.9.1)\n",
      "Requirement already satisfied: unstructured[md] in c:\\users\\zain\\documents\\github\\university\\.venv\\lib\\site-packages (from -r ../requirements.txt (line 5)) (0.15.13)\n",
      "Requirement already satisfied: PyYAML>=5.3 in c:\\users\\zain\\documents\\github\\university\\.venv\\lib\\site-packages (from langchain->-r ../requirements.txt (line 1)) (6.0.2)\n",
      "Requirement already satisfied: SQLAlchemy<3,>=1.4 in c:\\users\\zain\\documents\\github\\university\\.venv\\lib\\site-packages (from langchain->-r ../requirements.txt (line 1)) (2.0.35)\n",
      "Requirement already satisfied: aiohttp<4.0.0,>=3.8.3 in c:\\users\\zain\\documents\\github\\university\\.venv\\lib\\site-packages (from langchain->-r ../requirements.txt (line 1)) (3.10.8)\n",
      "Requirement already satisfied: langchain-core<0.4.0,>=0.3.6 in c:\\users\\zain\\documents\\github\\university\\.venv\\lib\\site-packages (from langchain->-r ../requirements.txt (line 1)) (0.3.8)\n",
      "Requirement already satisfied: langsmith<0.2.0,>=0.1.17 in c:\\users\\zain\\documents\\github\\university\\.venv\\lib\\site-packages (from langchain->-r ../requirements.txt (line 1)) (0.1.130)\n",
      "Requirement already satisfied: numpy<2.0.0,>=1.26.0 in c:\\users\\zain\\documents\\github\\university\\.venv\\lib\\site-packages (from langchain->-r ../requirements.txt (line 1)) (1.26.4)\n",
      "Requirement already satisfied: pydantic<3.0.0,>=2.7.4 in c:\\users\\zain\\documents\\github\\university\\.venv\\lib\\site-packages (from langchain->-r ../requirements.txt (line 1)) (2.9.2)\n",
      "Requirement already satisfied: requests<3,>=2 in c:\\users\\zain\\documents\\github\\university\\.venv\\lib\\site-packages (from langchain->-r ../requirements.txt (line 1)) (2.32.3)\n",
      "Requirement already satisfied: tenacity!=8.4.0,<9.0.0,>=8.1.0 in c:\\users\\zain\\documents\\github\\university\\.venv\\lib\\site-packages (from langchain->-r ../requirements.txt (line 1)) (8.5.0)\n",
      "Requirement already satisfied: dataclasses-json<0.7,>=0.5.7 in c:\\users\\zain\\documents\\github\\university\\.venv\\lib\\site-packages (from langchain_community->-r ../requirements.txt (line 2)) (0.6.7)\n",
      "Requirement already satisfied: pydantic-settings<3.0.0,>=2.4.0 in c:\\users\\zain\\documents\\github\\university\\.venv\\lib\\site-packages (from langchain_community->-r ../requirements.txt (line 2)) (2.5.2)\n",
      "Requirement already satisfied: huggingface-hub>=0.23.0 in c:\\users\\zain\\documents\\github\\university\\.venv\\lib\\site-packages (from langchain_huggingface->-r ../requirements.txt (line 3)) (0.25.1)\n",
      "Requirement already satisfied: sentence-transformers>=2.6.0 in c:\\users\\zain\\documents\\github\\university\\.venv\\lib\\site-packages (from langchain_huggingface->-r ../requirements.txt (line 3)) (3.1.1)\n",
      "Requirement already satisfied: tokenizers>=0.19.1 in c:\\users\\zain\\documents\\github\\university\\.venv\\lib\\site-packages (from langchain_huggingface->-r ../requirements.txt (line 3)) (0.20.0)\n",
      "Requirement already satisfied: transformers>=4.39.0 in c:\\users\\zain\\documents\\github\\university\\.venv\\lib\\site-packages (from langchain_huggingface->-r ../requirements.txt (line 3)) (4.45.1)\n",
      "Requirement already satisfied: chardet in c:\\users\\zain\\documents\\github\\university\\.venv\\lib\\site-packages (from unstructured[md]->-r ../requirements.txt (line 5)) (5.2.0)\n",
      "Requirement already satisfied: filetype in c:\\users\\zain\\documents\\github\\university\\.venv\\lib\\site-packages (from unstructured[md]->-r ../requirements.txt (line 5)) (1.2.0)\n",
      "Requirement already satisfied: python-magic in c:\\users\\zain\\documents\\github\\university\\.venv\\lib\\site-packages (from unstructured[md]->-r ../requirements.txt (line 5)) (0.4.27)\n",
      "Requirement already satisfied: lxml in c:\\users\\zain\\documents\\github\\university\\.venv\\lib\\site-packages (from unstructured[md]->-r ../requirements.txt (line 5)) (5.3.0)\n",
      "Requirement already satisfied: tabulate in c:\\users\\zain\\documents\\github\\university\\.venv\\lib\\site-packages (from unstructured[md]->-r ../requirements.txt (line 5)) (0.9.0)\n",
      "Requirement already satisfied: beautifulsoup4 in c:\\users\\zain\\documents\\github\\university\\.venv\\lib\\site-packages (from unstructured[md]->-r ../requirements.txt (line 5)) (4.12.3)\n",
      "Requirement already satisfied: emoji in c:\\users\\zain\\documents\\github\\university\\.venv\\lib\\site-packages (from unstructured[md]->-r ../requirements.txt (line 5)) (2.13.2)\n",
      "Requirement already satisfied: python-iso639 in c:\\users\\zain\\documents\\github\\university\\.venv\\lib\\site-packages (from unstructured[md]->-r ../requirements.txt (line 5)) (2024.4.27)\n",
      "Requirement already satisfied: langdetect in c:\\users\\zain\\documents\\github\\university\\.venv\\lib\\site-packages (from unstructured[md]->-r ../requirements.txt (line 5)) (1.0.9)\n",
      "Requirement already satisfied: rapidfuzz in c:\\users\\zain\\documents\\github\\university\\.venv\\lib\\site-packages (from unstructured[md]->-r ../requirements.txt (line 5)) (3.10.0)\n",
      "Requirement already satisfied: backoff in c:\\users\\zain\\documents\\github\\university\\.venv\\lib\\site-packages (from unstructured[md]->-r ../requirements.txt (line 5)) (2.2.1)\n",
      "Requirement already satisfied: typing-extensions in c:\\users\\zain\\documents\\github\\university\\.venv\\lib\\site-packages (from unstructured[md]->-r ../requirements.txt (line 5)) (4.12.2)\n",
      "Requirement already satisfied: unstructured-client in c:\\users\\zain\\documents\\github\\university\\.venv\\lib\\site-packages (from unstructured[md]->-r ../requirements.txt (line 5)) (0.25.9)\n",
      "Requirement already satisfied: wrapt in c:\\users\\zain\\documents\\github\\university\\.venv\\lib\\site-packages (from unstructured[md]->-r ../requirements.txt (line 5)) (1.16.0)\n",
      "Requirement already satisfied: tqdm in c:\\users\\zain\\documents\\github\\university\\.venv\\lib\\site-packages (from unstructured[md]->-r ../requirements.txt (line 5)) (4.66.5)\n",
      "Requirement already satisfied: psutil in c:\\users\\zain\\documents\\github\\university\\.venv\\lib\\site-packages (from unstructured[md]->-r ../requirements.txt (line 5)) (6.0.0)\n",
      "Requirement already satisfied: python-oxmsg in c:\\users\\zain\\documents\\github\\university\\.venv\\lib\\site-packages (from unstructured[md]->-r ../requirements.txt (line 5)) (0.0.1)\n",
      "Requirement already satisfied: markdown in c:\\users\\zain\\documents\\github\\university\\.venv\\lib\\site-packages (from unstructured[md]->-r ../requirements.txt (line 5)) (3.7)\n",
      "Requirement already satisfied: click in c:\\users\\zain\\documents\\github\\university\\.venv\\lib\\site-packages (from nltk->-r ../requirements.txt (line 6)) (8.1.7)\n",
      "Requirement already satisfied: joblib in c:\\users\\zain\\documents\\github\\university\\.venv\\lib\\site-packages (from nltk->-r ../requirements.txt (line 6)) (1.4.2)\n",
      "Requirement already satisfied: regex>=2021.8.3 in c:\\users\\zain\\documents\\github\\university\\.venv\\lib\\site-packages (from nltk->-r ../requirements.txt (line 6)) (2024.9.11)\n",
      "Requirement already satisfied: aiohappyeyeballs>=2.3.0 in c:\\users\\zain\\documents\\github\\university\\.venv\\lib\\site-packages (from aiohttp<4.0.0,>=3.8.3->langchain->-r ../requirements.txt (line 1)) (2.4.3)\n",
      "Requirement already satisfied: aiosignal>=1.1.2 in c:\\users\\zain\\documents\\github\\university\\.venv\\lib\\site-packages (from aiohttp<4.0.0,>=3.8.3->langchain->-r ../requirements.txt (line 1)) (1.3.1)\n",
      "Requirement already satisfied: attrs>=17.3.0 in c:\\users\\zain\\documents\\github\\university\\.venv\\lib\\site-packages (from aiohttp<4.0.0,>=3.8.3->langchain->-r ../requirements.txt (line 1)) (24.2.0)\n",
      "Requirement already satisfied: frozenlist>=1.1.1 in c:\\users\\zain\\documents\\github\\university\\.venv\\lib\\site-packages (from aiohttp<4.0.0,>=3.8.3->langchain->-r ../requirements.txt (line 1)) (1.4.1)\n",
      "Requirement already satisfied: multidict<7.0,>=4.5 in c:\\users\\zain\\documents\\github\\university\\.venv\\lib\\site-packages (from aiohttp<4.0.0,>=3.8.3->langchain->-r ../requirements.txt (line 1)) (6.1.0)\n",
      "Requirement already satisfied: yarl<2.0,>=1.12.0 in c:\\users\\zain\\documents\\github\\university\\.venv\\lib\\site-packages (from aiohttp<4.0.0,>=3.8.3->langchain->-r ../requirements.txt (line 1)) (1.13.1)\n",
      "Requirement already satisfied: marshmallow<4.0.0,>=3.18.0 in c:\\users\\zain\\documents\\github\\university\\.venv\\lib\\site-packages (from dataclasses-json<0.7,>=0.5.7->langchain_community->-r ../requirements.txt (line 2)) (3.22.0)\n",
      "Requirement already satisfied: typing-inspect<1,>=0.4.0 in c:\\users\\zain\\documents\\github\\university\\.venv\\lib\\site-packages (from dataclasses-json<0.7,>=0.5.7->langchain_community->-r ../requirements.txt (line 2)) (0.9.0)\n",
      "Requirement already satisfied: filelock in c:\\users\\zain\\documents\\github\\university\\.venv\\lib\\site-packages (from huggingface-hub>=0.23.0->langchain_huggingface->-r ../requirements.txt (line 3)) (3.16.1)\n",
      "Requirement already satisfied: fsspec>=2023.5.0 in c:\\users\\zain\\documents\\github\\university\\.venv\\lib\\site-packages (from huggingface-hub>=0.23.0->langchain_huggingface->-r ../requirements.txt (line 3)) (2024.9.0)\n",
      "Requirement already satisfied: packaging>=20.9 in c:\\users\\zain\\documents\\github\\university\\.venv\\lib\\site-packages (from huggingface-hub>=0.23.0->langchain_huggingface->-r ../requirements.txt (line 3)) (24.1)\n",
      "Requirement already satisfied: jsonpatch<2.0,>=1.33 in c:\\users\\zain\\documents\\github\\university\\.venv\\lib\\site-packages (from langchain-core<0.4.0,>=0.3.6->langchain->-r ../requirements.txt (line 1)) (1.33)\n",
      "Requirement already satisfied: httpx<1,>=0.23.0 in c:\\users\\zain\\documents\\github\\university\\.venv\\lib\\site-packages (from langsmith<0.2.0,>=0.1.17->langchain->-r ../requirements.txt (line 1)) (0.27.2)\n",
      "Requirement already satisfied: orjson<4.0.0,>=3.9.14 in c:\\users\\zain\\documents\\github\\university\\.venv\\lib\\site-packages (from langsmith<0.2.0,>=0.1.17->langchain->-r ../requirements.txt (line 1)) (3.10.7)\n",
      "Requirement already satisfied: requests-toolbelt<2.0.0,>=1.0.0 in c:\\users\\zain\\documents\\github\\university\\.venv\\lib\\site-packages (from langsmith<0.2.0,>=0.1.17->langchain->-r ../requirements.txt (line 1)) (1.0.0)\n",
      "Requirement already satisfied: annotated-types>=0.6.0 in c:\\users\\zain\\documents\\github\\university\\.venv\\lib\\site-packages (from pydantic<3.0.0,>=2.7.4->langchain->-r ../requirements.txt (line 1)) (0.7.0)\n",
      "Requirement already satisfied: pydantic-core==2.23.4 in c:\\users\\zain\\documents\\github\\university\\.venv\\lib\\site-packages (from pydantic<3.0.0,>=2.7.4->langchain->-r ../requirements.txt (line 1)) (2.23.4)\n",
      "Requirement already satisfied: python-dotenv>=0.21.0 in c:\\users\\zain\\documents\\github\\university\\.venv\\lib\\site-packages (from pydantic-settings<3.0.0,>=2.4.0->langchain_community->-r ../requirements.txt (line 2)) (1.0.1)\n",
      "Requirement already satisfied: charset-normalizer<4,>=2 in c:\\users\\zain\\documents\\github\\university\\.venv\\lib\\site-packages (from requests<3,>=2->langchain->-r ../requirements.txt (line 1)) (3.3.2)\n",
      "Requirement already satisfied: idna<4,>=2.5 in c:\\users\\zain\\documents\\github\\university\\.venv\\lib\\site-packages (from requests<3,>=2->langchain->-r ../requirements.txt (line 1)) (3.10)\n",
      "Requirement already satisfied: urllib3<3,>=1.21.1 in c:\\users\\zain\\documents\\github\\university\\.venv\\lib\\site-packages (from requests<3,>=2->langchain->-r ../requirements.txt (line 1)) (2.2.3)\n",
      "Requirement already satisfied: certifi>=2017.4.17 in c:\\users\\zain\\documents\\github\\university\\.venv\\lib\\site-packages (from requests<3,>=2->langchain->-r ../requirements.txt (line 1)) (2024.8.30)\n",
      "Requirement already satisfied: torch>=1.11.0 in c:\\users\\zain\\documents\\github\\university\\.venv\\lib\\site-packages (from sentence-transformers>=2.6.0->langchain_huggingface->-r ../requirements.txt (line 3)) (2.4.1)\n",
      "Requirement already satisfied: scikit-learn in c:\\users\\zain\\documents\\github\\university\\.venv\\lib\\site-packages (from sentence-transformers>=2.6.0->langchain_huggingface->-r ../requirements.txt (line 3)) (1.5.2)\n",
      "Requirement already satisfied: scipy in c:\\users\\zain\\documents\\github\\university\\.venv\\lib\\site-packages (from sentence-transformers>=2.6.0->langchain_huggingface->-r ../requirements.txt (line 3)) (1.14.1)\n",
      "Requirement already satisfied: Pillow in c:\\users\\zain\\documents\\github\\university\\.venv\\lib\\site-packages (from sentence-transformers>=2.6.0->langchain_huggingface->-r ../requirements.txt (line 3)) (10.4.0)\n",
      "Requirement already satisfied: greenlet!=0.4.17 in c:\\users\\zain\\documents\\github\\university\\.venv\\lib\\site-packages (from SQLAlchemy<3,>=1.4->langchain->-r ../requirements.txt (line 1)) (3.1.1)\n",
      "Requirement already satisfied: colorama in c:\\users\\zain\\documents\\github\\university\\.venv\\lib\\site-packages (from tqdm->unstructured[md]->-r ../requirements.txt (line 5)) (0.4.6)\n",
      "Requirement already satisfied: safetensors>=0.4.1 in c:\\users\\zain\\documents\\github\\university\\.venv\\lib\\site-packages (from transformers>=4.39.0->langchain_huggingface->-r ../requirements.txt (line 3)) (0.4.5)\n",
      "Requirement already satisfied: soupsieve>1.2 in c:\\users\\zain\\documents\\github\\university\\.venv\\lib\\site-packages (from beautifulsoup4->unstructured[md]->-r ../requirements.txt (line 5)) (2.6)\n",
      "Requirement already satisfied: six in c:\\users\\zain\\documents\\github\\university\\.venv\\lib\\site-packages (from langdetect->unstructured[md]->-r ../requirements.txt (line 5)) (1.16.0)\n",
      "Requirement already satisfied: olefile in c:\\users\\zain\\documents\\github\\university\\.venv\\lib\\site-packages (from python-oxmsg->unstructured[md]->-r ../requirements.txt (line 5)) (0.47)\n",
      "Requirement already satisfied: cryptography>=3.1 in c:\\users\\zain\\documents\\github\\university\\.venv\\lib\\site-packages (from unstructured-client->unstructured[md]->-r ../requirements.txt (line 5)) (43.0.1)\n",
      "Requirement already satisfied: deepdiff>=6.0 in c:\\users\\zain\\documents\\github\\university\\.venv\\lib\\site-packages (from unstructured-client->unstructured[md]->-r ../requirements.txt (line 5)) (8.0.1)\n",
      "Requirement already satisfied: jsonpath-python>=1.0.6 in c:\\users\\zain\\documents\\github\\university\\.venv\\lib\\site-packages (from unstructured-client->unstructured[md]->-r ../requirements.txt (line 5)) (1.0.6)\n",
      "Requirement already satisfied: mypy-extensions>=1.0.0 in c:\\users\\zain\\documents\\github\\university\\.venv\\lib\\site-packages (from unstructured-client->unstructured[md]->-r ../requirements.txt (line 5)) (1.0.0)\n",
      "Requirement already satisfied: nest-asyncio>=1.6.0 in c:\\users\\zain\\documents\\github\\university\\.venv\\lib\\site-packages (from unstructured-client->unstructured[md]->-r ../requirements.txt (line 5)) (1.6.0)\n",
      "Requirement already satisfied: pypdf>=4.0 in c:\\users\\zain\\documents\\github\\university\\.venv\\lib\\site-packages (from unstructured-client->unstructured[md]->-r ../requirements.txt (line 5)) (5.0.1)\n",
      "Requirement already satisfied: python-dateutil>=2.8.2 in c:\\users\\zain\\documents\\github\\university\\.venv\\lib\\site-packages (from unstructured-client->unstructured[md]->-r ../requirements.txt (line 5)) (2.9.0.post0)\n",
      "Requirement already satisfied: cffi>=1.12 in c:\\users\\zain\\documents\\github\\university\\.venv\\lib\\site-packages (from cryptography>=3.1->unstructured-client->unstructured[md]->-r ../requirements.txt (line 5)) (1.17.1)\n",
      "Requirement already satisfied: orderly-set==5.2.2 in c:\\users\\zain\\documents\\github\\university\\.venv\\lib\\site-packages (from deepdiff>=6.0->unstructured-client->unstructured[md]->-r ../requirements.txt (line 5)) (5.2.2)\n",
      "Requirement already satisfied: anyio in c:\\users\\zain\\documents\\github\\university\\.venv\\lib\\site-packages (from httpx<1,>=0.23.0->langsmith<0.2.0,>=0.1.17->langchain->-r ../requirements.txt (line 1)) (4.6.0)\n",
      "Requirement already satisfied: httpcore==1.* in c:\\users\\zain\\documents\\github\\university\\.venv\\lib\\site-packages (from httpx<1,>=0.23.0->langsmith<0.2.0,>=0.1.17->langchain->-r ../requirements.txt (line 1)) (1.0.6)\n",
      "Requirement already satisfied: sniffio in c:\\users\\zain\\documents\\github\\university\\.venv\\lib\\site-packages (from httpx<1,>=0.23.0->langsmith<0.2.0,>=0.1.17->langchain->-r ../requirements.txt (line 1)) (1.3.1)\n",
      "Requirement already satisfied: h11<0.15,>=0.13 in c:\\users\\zain\\documents\\github\\university\\.venv\\lib\\site-packages (from httpcore==1.*->httpx<1,>=0.23.0->langsmith<0.2.0,>=0.1.17->langchain->-r ../requirements.txt (line 1)) (0.14.0)\n",
      "Requirement already satisfied: jsonpointer>=1.9 in c:\\users\\zain\\documents\\github\\university\\.venv\\lib\\site-packages (from jsonpatch<2.0,>=1.33->langchain-core<0.4.0,>=0.3.6->langchain->-r ../requirements.txt (line 1)) (3.0.0)\n",
      "Requirement already satisfied: sympy in c:\\users\\zain\\documents\\github\\university\\.venv\\lib\\site-packages (from torch>=1.11.0->sentence-transformers>=2.6.0->langchain_huggingface->-r ../requirements.txt (line 3)) (1.13.3)\n",
      "Requirement already satisfied: networkx in c:\\users\\zain\\documents\\github\\university\\.venv\\lib\\site-packages (from torch>=1.11.0->sentence-transformers>=2.6.0->langchain_huggingface->-r ../requirements.txt (line 3)) (3.3)\n",
      "Requirement already satisfied: jinja2 in c:\\users\\zain\\documents\\github\\university\\.venv\\lib\\site-packages (from torch>=1.11.0->sentence-transformers>=2.6.0->langchain_huggingface->-r ../requirements.txt (line 3)) (3.1.4)\n",
      "Requirement already satisfied: setuptools in c:\\users\\zain\\documents\\github\\university\\.venv\\lib\\site-packages (from torch>=1.11.0->sentence-transformers>=2.6.0->langchain_huggingface->-r ../requirements.txt (line 3)) (75.1.0)\n",
      "Requirement already satisfied: threadpoolctl>=3.1.0 in c:\\users\\zain\\documents\\github\\university\\.venv\\lib\\site-packages (from scikit-learn->sentence-transformers>=2.6.0->langchain_huggingface->-r ../requirements.txt (line 3)) (3.5.0)\n",
      "Requirement already satisfied: pycparser in c:\\users\\zain\\documents\\github\\university\\.venv\\lib\\site-packages (from cffi>=1.12->cryptography>=3.1->unstructured-client->unstructured[md]->-r ../requirements.txt (line 5)) (2.22)\n",
      "Requirement already satisfied: MarkupSafe>=2.0 in c:\\users\\zain\\documents\\github\\university\\.venv\\lib\\site-packages (from jinja2->torch>=1.11.0->sentence-transformers>=2.6.0->langchain_huggingface->-r ../requirements.txt (line 3)) (2.1.5)\n",
      "Requirement already satisfied: mpmath<1.4,>=1.1.0 in c:\\users\\zain\\documents\\github\\university\\.venv\\lib\\site-packages (from sympy->torch>=1.11.0->sentence-transformers>=2.6.0->langchain_huggingface->-r ../requirements.txt (line 3)) (1.3.0)\n",
      "Note: you may need to restart the kernel to use updated packages.\n"
     ]
    }
   ],
   "source": [
    "%pip install -r ../requirements.txt"
   ]
  },
  {
   "cell_type": "markdown",
   "metadata": {},
   "source": [
    "# Imports"
   ]
  },
  {
   "cell_type": "code",
   "execution_count": 2,
   "metadata": {},
   "outputs": [
    {
     "name": "stdout",
     "output_type": "stream",
     "text": [
      "c:\\Users\\Zain\\Documents\\Github\\University\n",
      "c:\\Users\\Zain\\Documents\\Github\\University\\experiments\n"
     ]
    },
    {
     "name": "stderr",
     "output_type": "stream",
     "text": [
      "c:\\Users\\Zain\\Documents\\Github\\University\\.venv\\Lib\\site-packages\\IPython\\core\\magics\\osm.py:417: UserWarning: This is now an optional IPython functionality, setting dhist requires you to install the `pickleshare` library.\n",
      "  self.shell.db['dhist'] = compress_dhist(dhist)[-100:]\n"
     ]
    }
   ],
   "source": [
    "import langchain\n",
    "from langchain_community.document_loaders import TextLoader\n",
    "from langchain_community.vectorstores import FAISS\n",
    "from langchain_huggingface import HuggingFaceEmbeddings\n",
    "from langchain_text_splitters import CharacterTextSplitter\n",
    "%cd ..\n",
    "from src import *\n",
    "%cd experiments"
   ]
  },
  {
   "cell_type": "markdown",
   "metadata": {},
   "source": [
    "# Document Ingestor Class"
   ]
  },
  {
   "cell_type": "code",
   "execution_count": 3,
   "metadata": {},
   "outputs": [
    {
     "ename": "FileExistsError",
     "evalue": "[WinError 183] Cannot create a file when that file already exists: 'experiments/tmp/notes'",
     "output_type": "error",
     "traceback": [
      "\u001b[1;31m---------------------------------------------------------------------------\u001b[0m",
      "\u001b[1;31mFileExistsError\u001b[0m                           Traceback (most recent call last)",
      "Cell \u001b[1;32mIn[3], line 2\u001b[0m\n\u001b[0;32m      1\u001b[0m filename \u001b[38;5;241m=\u001b[39m \u001b[38;5;124m\"\u001b[39m\u001b[38;5;124mtmp\u001b[39m\u001b[38;5;124m\"\u001b[39m\n\u001b[1;32m----> 2\u001b[0m \u001b[43mdocIngest\u001b[49m\u001b[43m(\u001b[49m\u001b[43mfilename\u001b[49m\u001b[43m)\u001b[49m\u001b[38;5;241;43m.\u001b[39;49m\u001b[43mrun\u001b[49m\u001b[43m(\u001b[49m\u001b[43m)\u001b[49m\n",
      "File \u001b[1;32mc:\\Users\\Zain\\Documents\\Github\\University\\src\\docIngest.py:18\u001b[0m, in \u001b[0;36mdocIngest.run\u001b[1;34m(self)\u001b[0m\n\u001b[0;32m     14\u001b[0m \u001b[38;5;28;01mdef\u001b[39;00m \u001b[38;5;21mrun\u001b[39m(\u001b[38;5;28mself\u001b[39m) \u001b[38;5;241m-\u001b[39m\u001b[38;5;241m>\u001b[39m \u001b[38;5;28;01mNone\u001b[39;00m:\n\u001b[0;32m     15\u001b[0m \u001b[38;5;250m    \u001b[39m\u001b[38;5;124;03m\"\"\"\u001b[39;00m\n\u001b[0;32m     16\u001b[0m \u001b[38;5;124;03m    Run complete process\u001b[39;00m\n\u001b[0;32m     17\u001b[0m \u001b[38;5;124;03m    \"\"\"\u001b[39;00m\n\u001b[1;32m---> 18\u001b[0m     \u001b[38;5;28;43mself\u001b[39;49m\u001b[38;5;241;43m.\u001b[39;49m\u001b[43m_notesLoad\u001b[49m\u001b[43m(\u001b[49m\u001b[43m)\u001b[49m\n",
      "File \u001b[1;32mc:\\Users\\Zain\\Documents\\Github\\University\\src\\docIngest.py:24\u001b[0m, in \u001b[0;36mdocIngest._notesLoad\u001b[1;34m(self)\u001b[0m\n\u001b[0;32m     22\u001b[0m q_dir \u001b[38;5;241m=\u001b[39m \u001b[38;5;124m\"\u001b[39m\u001b[38;5;124mquestions\u001b[39m\u001b[38;5;124m\"\u001b[39m\n\u001b[0;32m     23\u001b[0m dst_dir2 \u001b[38;5;241m=\u001b[39m \u001b[38;5;124mf\u001b[39m\u001b[38;5;124m\"\u001b[39m\u001b[38;5;124mexperiments/\u001b[39m\u001b[38;5;132;01m{\u001b[39;00m\u001b[38;5;28mself\u001b[39m\u001b[38;5;241m.\u001b[39mfolder\u001b[38;5;132;01m}\u001b[39;00m\u001b[38;5;124m/questions\u001b[39m\u001b[38;5;124m\"\u001b[39m\n\u001b[1;32m---> 24\u001b[0m \u001b[43mshutil\u001b[49m\u001b[38;5;241;43m.\u001b[39;49m\u001b[43mcopytree\u001b[49m\u001b[43m(\u001b[49m\u001b[43msrc_dir\u001b[49m\u001b[43m,\u001b[49m\u001b[43m \u001b[49m\u001b[43mdst_dir\u001b[49m\u001b[43m)\u001b[49m\n\u001b[0;32m     25\u001b[0m shutil\u001b[38;5;241m.\u001b[39mcopytree(q_dir, dst_dir2)\n",
      "File \u001b[1;32m~\\AppData\\Local\\Programs\\Python\\Python312\\Lib\\shutil.py:600\u001b[0m, in \u001b[0;36mcopytree\u001b[1;34m(src, dst, symlinks, ignore, copy_function, ignore_dangling_symlinks, dirs_exist_ok)\u001b[0m\n\u001b[0;32m    598\u001b[0m \u001b[38;5;28;01mwith\u001b[39;00m os\u001b[38;5;241m.\u001b[39mscandir(src) \u001b[38;5;28;01mas\u001b[39;00m itr:\n\u001b[0;32m    599\u001b[0m     entries \u001b[38;5;241m=\u001b[39m \u001b[38;5;28mlist\u001b[39m(itr)\n\u001b[1;32m--> 600\u001b[0m \u001b[38;5;28;01mreturn\u001b[39;00m \u001b[43m_copytree\u001b[49m\u001b[43m(\u001b[49m\u001b[43mentries\u001b[49m\u001b[38;5;241;43m=\u001b[39;49m\u001b[43mentries\u001b[49m\u001b[43m,\u001b[49m\u001b[43m \u001b[49m\u001b[43msrc\u001b[49m\u001b[38;5;241;43m=\u001b[39;49m\u001b[43msrc\u001b[49m\u001b[43m,\u001b[49m\u001b[43m \u001b[49m\u001b[43mdst\u001b[49m\u001b[38;5;241;43m=\u001b[39;49m\u001b[43mdst\u001b[49m\u001b[43m,\u001b[49m\u001b[43m \u001b[49m\u001b[43msymlinks\u001b[49m\u001b[38;5;241;43m=\u001b[39;49m\u001b[43msymlinks\u001b[49m\u001b[43m,\u001b[49m\n\u001b[0;32m    601\u001b[0m \u001b[43m                 \u001b[49m\u001b[43mignore\u001b[49m\u001b[38;5;241;43m=\u001b[39;49m\u001b[43mignore\u001b[49m\u001b[43m,\u001b[49m\u001b[43m \u001b[49m\u001b[43mcopy_function\u001b[49m\u001b[38;5;241;43m=\u001b[39;49m\u001b[43mcopy_function\u001b[49m\u001b[43m,\u001b[49m\n\u001b[0;32m    602\u001b[0m \u001b[43m                 \u001b[49m\u001b[43mignore_dangling_symlinks\u001b[49m\u001b[38;5;241;43m=\u001b[39;49m\u001b[43mignore_dangling_symlinks\u001b[49m\u001b[43m,\u001b[49m\n\u001b[0;32m    603\u001b[0m \u001b[43m                 \u001b[49m\u001b[43mdirs_exist_ok\u001b[49m\u001b[38;5;241;43m=\u001b[39;49m\u001b[43mdirs_exist_ok\u001b[49m\u001b[43m)\u001b[49m\n",
      "File \u001b[1;32m~\\AppData\\Local\\Programs\\Python\\Python312\\Lib\\shutil.py:498\u001b[0m, in \u001b[0;36m_copytree\u001b[1;34m(entries, src, dst, symlinks, ignore, copy_function, ignore_dangling_symlinks, dirs_exist_ok)\u001b[0m\n\u001b[0;32m    495\u001b[0m \u001b[38;5;28;01melse\u001b[39;00m:\n\u001b[0;32m    496\u001b[0m     ignored_names \u001b[38;5;241m=\u001b[39m ()\n\u001b[1;32m--> 498\u001b[0m \u001b[43mos\u001b[49m\u001b[38;5;241;43m.\u001b[39;49m\u001b[43mmakedirs\u001b[49m\u001b[43m(\u001b[49m\u001b[43mdst\u001b[49m\u001b[43m,\u001b[49m\u001b[43m \u001b[49m\u001b[43mexist_ok\u001b[49m\u001b[38;5;241;43m=\u001b[39;49m\u001b[43mdirs_exist_ok\u001b[49m\u001b[43m)\u001b[49m\n\u001b[0;32m    499\u001b[0m errors \u001b[38;5;241m=\u001b[39m []\n\u001b[0;32m    500\u001b[0m use_srcentry \u001b[38;5;241m=\u001b[39m copy_function \u001b[38;5;129;01mis\u001b[39;00m copy2 \u001b[38;5;129;01mor\u001b[39;00m copy_function \u001b[38;5;129;01mis\u001b[39;00m copy\n",
      "File \u001b[1;32m<frozen os>:225\u001b[0m, in \u001b[0;36mmakedirs\u001b[1;34m(name, mode, exist_ok)\u001b[0m\n",
      "\u001b[1;31mFileExistsError\u001b[0m: [WinError 183] Cannot create a file when that file already exists: 'experiments/tmp/notes'"
     ]
    }
   ],
   "source": [
    "filename = \"tmp2\"\n",
    "docIngest(filename).run()"
   ]
  },
  {
   "cell_type": "markdown",
   "metadata": {},
   "source": [
    "# OCR class"
   ]
  },
  {
   "cell_type": "markdown",
   "metadata": {},
   "source": [
    "Use the link [here](https://simpletex.cn/ai/latex_ocr) to obtain .md file\n",
    "Upload manually as required"
   ]
  },
  {
   "cell_type": "markdown",
   "metadata": {},
   "source": [
    "# .md Combine class"
   ]
  },
  {
   "cell_type": "code",
   "execution_count": 16,
   "metadata": {},
   "outputs": [],
   "source": [
    "# mdCombine(\"tmp\").run()"
   ]
  },
  {
   "cell_type": "markdown",
   "metadata": {},
   "source": [
    "# RAG Retriever class"
   ]
  },
  {
   "cell_type": "code",
   "execution_count": null,
   "metadata": {},
   "outputs": [],
   "source": [
    "from langchain_community.document_loaders import UnstructuredMarkdownLoader\n",
    "from langchain_core.documents import Document\n",
    "from langchain_community.document_loaders import TextLoader\n",
    "from langchain_community.vectorstores import FAISS\n",
    "from langchain_huggingface import HuggingFaceEmbeddings\n",
    "from langchain_text_splitters import CharacterTextSplitter\n",
    "\n",
    "class RAG:\n",
    "    \"\"\"\n",
    "    Runs RAG on all .md files in {self.folder}/notes\n",
    "    Creates 1 final document which gets written to constantly\n",
    "    \"\"\"\n",
    "    def __init__(self, folder: str):\n",
    "        self.folder = folder\n",
    "    \n",
    "    def run(self) -> None:\n",
    "        \"\"\"\n",
    "        Runs entire process of RAG\n",
    "        \"\"\"\n",
    "        pass\n",
    "    \n",
    "    def _toTex(markdown_path: str):\n",
    "        loader = UnstructuredMarkdownLoader(markdown_path)\n",
    "\n",
    "        data = loader.load()"
   ]
  },
  {
   "cell_type": "markdown",
   "metadata": {},
   "source": [
    "# Experiment"
   ]
  },
  {
   "cell_type": "code",
   "execution_count": null,
   "metadata": {},
   "outputs": [],
   "source": []
  }
 ],
 "metadata": {
  "kernelspec": {
   "display_name": ".venv",
   "language": "python",
   "name": "python3"
  },
  "language_info": {
   "codemirror_mode": {
    "name": "ipython",
    "version": 3
   },
   "file_extension": ".py",
   "mimetype": "text/x-python",
   "name": "python",
   "nbconvert_exporter": "python",
   "pygments_lexer": "ipython3",
   "version": "3.12.6"
  }
 },
 "nbformat": 4,
 "nbformat_minor": 2
}
