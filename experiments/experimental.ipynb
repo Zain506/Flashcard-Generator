{
 "cells": [
  {
   "cell_type": "markdown",
   "metadata": {},
   "source": [
    "# Requirements\n",
    "\n",
    "1. Starting experiments folder name with /notes, /questions\n",
    "2. Document Ingestor: Create separate folders with files for notes, questions to store in there. Class will copy all of those into experiments folder\n",
    "3. OCR: Process documents to obtain text and LaTex interpretation of each one. Store into 2 .json files separated by chunk\n",
    "4. Question retriever: From questions.json, obtain list of questions to query notes\n",
    "5. RAG retriever: From all chunks of notes.json, obtain most relevant chunk(s) and store into qa.json ({question: chunk})\n",
    "\n",
    "Use the link [here](https://simpletex.cn/ai/latex_ocr) to obtain .md file\n",
    "Upload manually as required"
   ]
  },
  {
   "cell_type": "markdown",
   "metadata": {},
   "source": [
    "# Installs"
   ]
  },
  {
   "cell_type": "code",
   "execution_count": null,
   "metadata": {},
   "outputs": [],
   "source": [
    "%pip install -r ../requirements.txt"
   ]
  },
  {
   "cell_type": "markdown",
   "metadata": {},
   "source": [
    "# Imports"
   ]
  },
  {
   "cell_type": "code",
   "execution_count": 1,
   "metadata": {},
   "outputs": [
    {
     "name": "stdout",
     "output_type": "stream",
     "text": [
      "c:\\Users\\Zain\\Documents\\Github\\University\n",
      "c:\\Users\\Zain\\Documents\\Github\\University\\experiments\n"
     ]
    },
    {
     "name": "stderr",
     "output_type": "stream",
     "text": [
      "c:\\Users\\Zain\\Documents\\Github\\University\\.venv\\Lib\\site-packages\\IPython\\core\\magics\\osm.py:417: UserWarning: This is now an optional IPython functionality, setting dhist requires you to install the `pickleshare` library.\n",
      "  self.shell.db['dhist'] = compress_dhist(dhist)[-100:]\n"
     ]
    }
   ],
   "source": [
    "import langchain\n",
    "from langchain_community.document_loaders import TextLoader\n",
    "from langchain_community.vectorstores import FAISS\n",
    "from langchain_huggingface import HuggingFaceEmbeddings\n",
    "from langchain_text_splitters import CharacterTextSplitter\n",
    "%cd ..\n",
    "from src import *\n",
    "%cd experiments"
   ]
  },
  {
   "cell_type": "markdown",
   "metadata": {},
   "source": [
    "# Define Pipeline"
   ]
  },
  {
   "cell_type": "code",
   "execution_count": 2,
   "metadata": {},
   "outputs": [],
   "source": [
    "def pipeline(filename: str) -> None:\n",
    "    \"\"\"\n",
    "    Run complete pipeline as needed\n",
    "    \"\"\"\n",
    "    docIngest(filename).run()\n",
    "    mdCombine(filename).run()\n",
    "    getChunks(filename).run()"
   ]
  },
  {
   "cell_type": "markdown",
   "metadata": {},
   "source": [
    "# Run"
   ]
  },
  {
   "cell_type": "code",
   "execution_count": 4,
   "metadata": {},
   "outputs": [
    {
     "name": "stdout",
     "output_type": "stream",
     "text": [
      "Folder found in experiments/experiment20241004165823\n"
     ]
    }
   ],
   "source": [
    "from datetime import datetime\n",
    "current_datetime = datetime.now()\n",
    "\n",
    "# Format it as a string\n",
    "formatted_datetime: str = current_datetime.strftime(\"%Y%m%d%H%M%S\")\n",
    "name: str = \"experiment\" + formatted_datetime\n",
    "print(f\"Folder found in experiments/{name}\")\n",
    "pipeline(name)"
   ]
  },
  {
   "cell_type": "markdown",
   "metadata": {},
   "source": [
    "## Work here"
   ]
  },
  {
   "cell_type": "code",
   "execution_count": 59,
   "metadata": {},
   "outputs": [],
   "source": []
  }
 ],
 "metadata": {
  "kernelspec": {
   "display_name": ".venv",
   "language": "python",
   "name": "python3"
  },
  "language_info": {
   "codemirror_mode": {
    "name": "ipython",
    "version": 3
   },
   "file_extension": ".py",
   "mimetype": "text/x-python",
   "name": "python",
   "nbconvert_exporter": "python",
   "pygments_lexer": "ipython3",
   "version": "3.12.6"
  }
 },
 "nbformat": 4,
 "nbformat_minor": 2
}
